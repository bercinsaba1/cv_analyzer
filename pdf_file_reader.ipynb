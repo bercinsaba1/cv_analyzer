{
 "cells": [
  {
   "cell_type": "code",
   "execution_count": 1,
   "metadata": {},
   "outputs": [],
   "source": [
    "import os\n",
    "import openai\n",
    "import sys\n",
    "sys.path.append('../..')\n",
    "\n",
    "from dotenv import load_dotenv, find_dotenv\n",
    "_ = load_dotenv(find_dotenv()) # read local .env file\n",
    "\n",
    "openai.api_key  = os.environ['OPENAI_API_KEY'] \n",
    "serpapi_api_key = os.environ['SERPAPI_API_KEY'] "
   ]
  },
  {
   "cell_type": "code",
   "execution_count": 2,
   "metadata": {},
   "outputs": [
    {
     "name": "stdout",
     "output_type": "stream",
     "text": [
      "Requirement already satisfied: PyPDF2 in c:\\users\\administrator\\appdata\\local\\programs\\python\\python311\\lib\\site-packages (3.0.1)\n"
     ]
    },
    {
     "name": "stderr",
     "output_type": "stream",
     "text": [
      "\n",
      "[notice] A new release of pip available: 22.3.1 -> 23.2.1\n",
      "[notice] To update, run: python.exe -m pip install --upgrade pip\n"
     ]
    },
    {
     "name": "stdout",
     "output_type": "stream",
     "text": [
      "Requirement already satisfied: faiss-cpu in c:\\users\\administrator\\appdata\\local\\programs\\python\\python311\\lib\\site-packages (1.7.4)\n"
     ]
    },
    {
     "name": "stderr",
     "output_type": "stream",
     "text": [
      "\n",
      "[notice] A new release of pip available: 22.3.1 -> 23.2.1\n",
      "[notice] To update, run: python.exe -m pip install --upgrade pip\n"
     ]
    },
    {
     "name": "stdout",
     "output_type": "stream",
     "text": [
      "Requirement already satisfied: openai in c:\\users\\administrator\\appdata\\local\\programs\\python\\python311\\lib\\site-packages (0.27.8)\n",
      "Requirement already satisfied: requests>=2.20 in c:\\users\\administrator\\appdata\\local\\programs\\python\\python311\\lib\\site-packages (from openai) (2.28.2)\n",
      "Requirement already satisfied: tqdm in c:\\users\\administrator\\appdata\\local\\programs\\python\\python311\\lib\\site-packages (from openai) (4.65.0)\n",
      "Requirement already satisfied: aiohttp in c:\\users\\administrator\\appdata\\local\\programs\\python\\python311\\lib\\site-packages (from openai) (3.8.4)\n",
      "Requirement already satisfied: charset-normalizer<4,>=2 in c:\\users\\administrator\\appdata\\local\\programs\\python\\python311\\lib\\site-packages (from requests>=2.20->openai) (3.1.0)\n",
      "Requirement already satisfied: idna<4,>=2.5 in c:\\users\\administrator\\appdata\\local\\programs\\python\\python311\\lib\\site-packages (from requests>=2.20->openai) (3.4)\n",
      "Requirement already satisfied: urllib3<1.27,>=1.21.1 in c:\\users\\administrator\\appdata\\local\\programs\\python\\python311\\lib\\site-packages (from requests>=2.20->openai) (1.26.15)\n",
      "Requirement already satisfied: certifi>=2017.4.17 in c:\\users\\administrator\\appdata\\local\\programs\\python\\python311\\lib\\site-packages (from requests>=2.20->openai) (2022.12.7)\n",
      "Requirement already satisfied: attrs>=17.3.0 in c:\\users\\administrator\\appdata\\local\\programs\\python\\python311\\lib\\site-packages (from aiohttp->openai) (23.1.0)\n",
      "Requirement already satisfied: multidict<7.0,>=4.5 in c:\\users\\administrator\\appdata\\local\\programs\\python\\python311\\lib\\site-packages (from aiohttp->openai) (6.0.4)\n",
      "Requirement already satisfied: async-timeout<5.0,>=4.0.0a3 in c:\\users\\administrator\\appdata\\local\\programs\\python\\python311\\lib\\site-packages (from aiohttp->openai) (4.0.2)\n",
      "Requirement already satisfied: yarl<2.0,>=1.0 in c:\\users\\administrator\\appdata\\local\\programs\\python\\python311\\lib\\site-packages (from aiohttp->openai) (1.9.2)\n",
      "Requirement already satisfied: frozenlist>=1.1.1 in c:\\users\\administrator\\appdata\\local\\programs\\python\\python311\\lib\\site-packages (from aiohttp->openai) (1.3.3)\n",
      "Requirement already satisfied: aiosignal>=1.1.2 in c:\\users\\administrator\\appdata\\local\\programs\\python\\python311\\lib\\site-packages (from aiohttp->openai) (1.3.1)\n",
      "Requirement already satisfied: colorama in c:\\users\\administrator\\appdata\\roaming\\python\\python311\\site-packages (from tqdm->openai) (0.4.6)\n"
     ]
    },
    {
     "name": "stderr",
     "output_type": "stream",
     "text": [
      "\n",
      "[notice] A new release of pip available: 22.3.1 -> 23.2.1\n",
      "[notice] To update, run: python.exe -m pip install --upgrade pip\n"
     ]
    },
    {
     "name": "stdout",
     "output_type": "stream",
     "text": [
      "Requirement already satisfied: unstructured in c:\\users\\administrator\\appdata\\local\\programs\\python\\python311\\lib\\site-packages (0.8.1)\n",
      "Requirement already satisfied: chardet in c:\\users\\administrator\\appdata\\local\\programs\\python\\python311\\lib\\site-packages (from unstructured) (5.1.0)\n",
      "Requirement already satisfied: filetype in c:\\users\\administrator\\appdata\\local\\programs\\python\\python311\\lib\\site-packages (from unstructured) (1.2.0)\n",
      "Requirement already satisfied: lxml in c:\\users\\administrator\\appdata\\local\\programs\\python\\python311\\lib\\site-packages (from unstructured) (4.9.2)\n",
      "Requirement already satisfied: msg-parser in c:\\users\\administrator\\appdata\\local\\programs\\python\\python311\\lib\\site-packages (from unstructured) (1.2.0)\n",
      "Requirement already satisfied: nltk in c:\\users\\administrator\\appdata\\local\\programs\\python\\python311\\lib\\site-packages (from unstructured) (3.8.1)\n",
      "Requirement already satisfied: openpyxl in c:\\users\\administrator\\appdata\\local\\programs\\python\\python311\\lib\\site-packages (from unstructured) (3.1.2)\n",
      "Requirement already satisfied: pandas in c:\\users\\administrator\\appdata\\local\\programs\\python\\python311\\lib\\site-packages (from unstructured) (2.0.0)\n",
      "Requirement already satisfied: pdf2image in c:\\users\\administrator\\appdata\\local\\programs\\python\\python311\\lib\\site-packages (from unstructured) (1.16.3)\n",
      "Requirement already satisfied: pdfminer.six in c:\\users\\administrator\\appdata\\local\\programs\\python\\python311\\lib\\site-packages (from unstructured) (20221105)\n",
      "Requirement already satisfied: pillow in c:\\users\\administrator\\appdata\\local\\programs\\python\\python311\\lib\\site-packages (from unstructured) (9.5.0)\n",
      "Requirement already satisfied: pypandoc in c:\\users\\administrator\\appdata\\local\\programs\\python\\python311\\lib\\site-packages (from unstructured) (1.11)\n",
      "Requirement already satisfied: python-docx in c:\\users\\administrator\\appdata\\local\\programs\\python\\python311\\lib\\site-packages (from unstructured) (0.8.11)\n",
      "Requirement already satisfied: python-pptx in c:\\users\\administrator\\appdata\\local\\programs\\python\\python311\\lib\\site-packages (from unstructured) (0.6.21)\n",
      "Requirement already satisfied: python-magic in c:\\users\\administrator\\appdata\\local\\programs\\python\\python311\\lib\\site-packages (from unstructured) (0.4.27)\n",
      "Requirement already satisfied: markdown in c:\\users\\administrator\\appdata\\local\\programs\\python\\python311\\lib\\site-packages (from unstructured) (3.4.4)\n",
      "Requirement already satisfied: requests in c:\\users\\administrator\\appdata\\local\\programs\\python\\python311\\lib\\site-packages (from unstructured) (2.28.2)\n",
      "Requirement already satisfied: tabulate in c:\\users\\administrator\\appdata\\local\\programs\\python\\python311\\lib\\site-packages (from unstructured) (0.9.0)\n",
      "Requirement already satisfied: xlrd in c:\\users\\administrator\\appdata\\local\\programs\\python\\python311\\lib\\site-packages (from unstructured) (2.0.1)\n",
      "Requirement already satisfied: olefile>=0.46 in c:\\users\\administrator\\appdata\\local\\programs\\python\\python311\\lib\\site-packages (from msg-parser->unstructured) (0.46)\n",
      "Requirement already satisfied: click in c:\\users\\administrator\\appdata\\local\\programs\\python\\python311\\lib\\site-packages (from nltk->unstructured) (8.1.5)\n",
      "Requirement already satisfied: joblib in c:\\users\\administrator\\appdata\\local\\programs\\python\\python311\\lib\\site-packages (from nltk->unstructured) (1.3.1)\n",
      "Requirement already satisfied: regex>=2021.8.3 in c:\\users\\administrator\\appdata\\local\\programs\\python\\python311\\lib\\site-packages (from nltk->unstructured) (2023.6.3)\n",
      "Requirement already satisfied: tqdm in c:\\users\\administrator\\appdata\\local\\programs\\python\\python311\\lib\\site-packages (from nltk->unstructured) (4.65.0)\n",
      "Requirement already satisfied: et-xmlfile in c:\\users\\administrator\\appdata\\local\\programs\\python\\python311\\lib\\site-packages (from openpyxl->unstructured) (1.1.0)\n",
      "Requirement already satisfied: python-dateutil>=2.8.2 in c:\\users\\administrator\\appdata\\local\\programs\\python\\python311\\lib\\site-packages (from pandas->unstructured) (2.8.2)\n",
      "Requirement already satisfied: pytz>=2020.1 in c:\\users\\administrator\\appdata\\local\\programs\\python\\python311\\lib\\site-packages (from pandas->unstructured) (2023.3)\n",
      "Requirement already satisfied: tzdata>=2022.1 in c:\\users\\administrator\\appdata\\local\\programs\\python\\python311\\lib\\site-packages (from pandas->unstructured) (2023.3)\n",
      "Requirement already satisfied: numpy>=1.21.0 in c:\\users\\administrator\\appdata\\local\\programs\\python\\python311\\lib\\site-packages (from pandas->unstructured) (1.24.3)\n",
      "Requirement already satisfied: charset-normalizer>=2.0.0 in c:\\users\\administrator\\appdata\\local\\programs\\python\\python311\\lib\\site-packages (from pdfminer.six->unstructured) (3.1.0)\n",
      "Requirement already satisfied: cryptography>=36.0.0 in c:\\users\\administrator\\appdata\\local\\programs\\python\\python311\\lib\\site-packages (from pdfminer.six->unstructured) (41.0.2)\n",
      "Requirement already satisfied: XlsxWriter>=0.5.7 in c:\\users\\administrator\\appdata\\local\\programs\\python\\python311\\lib\\site-packages (from python-pptx->unstructured) (3.1.2)\n",
      "Requirement already satisfied: idna<4,>=2.5 in c:\\users\\administrator\\appdata\\local\\programs\\python\\python311\\lib\\site-packages (from requests->unstructured) (3.4)\n",
      "Requirement already satisfied: urllib3<1.27,>=1.21.1 in c:\\users\\administrator\\appdata\\local\\programs\\python\\python311\\lib\\site-packages (from requests->unstructured) (1.26.15)\n",
      "Requirement already satisfied: certifi>=2017.4.17 in c:\\users\\administrator\\appdata\\local\\programs\\python\\python311\\lib\\site-packages (from requests->unstructured) (2022.12.7)\n",
      "Requirement already satisfied: cffi>=1.12 in c:\\users\\administrator\\appdata\\local\\programs\\python\\python311\\lib\\site-packages (from cryptography>=36.0.0->pdfminer.six->unstructured) (1.15.1)\n",
      "Requirement already satisfied: six>=1.5 in c:\\users\\administrator\\appdata\\local\\programs\\python\\python311\\lib\\site-packages (from python-dateutil>=2.8.2->pandas->unstructured) (1.16.0)\n",
      "Requirement already satisfied: colorama in c:\\users\\administrator\\appdata\\roaming\\python\\python311\\site-packages (from click->nltk->unstructured) (0.4.6)\n",
      "Requirement already satisfied: pycparser in c:\\users\\administrator\\appdata\\local\\programs\\python\\python311\\lib\\site-packages (from cffi>=1.12->cryptography>=36.0.0->pdfminer.six->unstructured) (2.21)\n"
     ]
    },
    {
     "name": "stderr",
     "output_type": "stream",
     "text": [
      "\n",
      "[notice] A new release of pip available: 22.3.1 -> 23.2.1\n",
      "[notice] To update, run: python.exe -m pip install --upgrade pip\n"
     ]
    }
   ],
   "source": [
    "!pip install PyPDF2\n",
    "!pip install faiss-cpu\n",
    "!pip install openai\n",
    "!pip install unstructured \n",
    "#!pip install chromadb\n"
   ]
  },
  {
   "cell_type": "code",
   "execution_count": 3,
   "metadata": {},
   "outputs": [],
   "source": [
    "from PyPDF2 import PdfFileReader\n",
    "from langchain.embeddings.openai import OpenAIEmbeddings\n",
    "from langchain.text_splitter import CharacterTextSplitter\n",
    "from langchain.vectorstores import ElasticVectorSearch, Pinecone, Weaviate, FAISS\n",
    "from langchain.document_loaders import UnstructuredPDFLoader\n",
    "from langchain.indexes import VectorstoreIndexCreator "
   ]
  },
  {
   "cell_type": "code",
   "execution_count": 4,
   "metadata": {},
   "outputs": [
    {
     "data": {
      "text/plain": [
       "['Berçin Saba Güngör CV.pdf',\n",
       " 'cv1.pdf',\n",
       " 'cv2.pdf',\n",
       " 'cv3.pdf',\n",
       " 'cv4.pdf',\n",
       " 'cv5.pdf',\n",
       " 'cv6.pdf',\n",
       " 'cv7.pdf',\n",
       " 'cv8.pdf',\n",
       " 'cv9.pdf',\n",
       " 'Project manager Cv Template.pdf']"
      ]
     },
     "execution_count": 4,
     "metadata": {},
     "output_type": "execute_result"
    }
   ],
   "source": [
    "#for multiple reader \n",
    "pdf_folder = \"C:\\\\Users\\\\Administrator\\\\Desktop\\\\cptbot\\\\folder\"\n",
    "os.listdir(pdf_folder)"
   ]
  },
  {
   "cell_type": "code",
   "execution_count": 5,
   "metadata": {},
   "outputs": [],
   "source": [
    "#for location of the pdf files \n",
    "loaders = [UnstructuredPDFLoader(os.path.join(pdf_folder, file)) for file in os.listdir(pdf_folder)]"
   ]
  },
  {
   "cell_type": "code",
   "execution_count": 6,
   "metadata": {},
   "outputs": [
    {
     "data": {
      "text/plain": [
       "[<langchain.document_loaders.pdf.UnstructuredPDFLoader at 0x1fff23058d0>,\n",
       " <langchain.document_loaders.pdf.UnstructuredPDFLoader at 0x1fff22e7e10>,\n",
       " <langchain.document_loaders.pdf.UnstructuredPDFLoader at 0x1ffeed1ffd0>,\n",
       " <langchain.document_loaders.pdf.UnstructuredPDFLoader at 0x1fff2305990>,\n",
       " <langchain.document_loaders.pdf.UnstructuredPDFLoader at 0x1fff2305910>,\n",
       " <langchain.document_loaders.pdf.UnstructuredPDFLoader at 0x1fff23059d0>,\n",
       " <langchain.document_loaders.pdf.UnstructuredPDFLoader at 0x1fff2305a90>,\n",
       " <langchain.document_loaders.pdf.UnstructuredPDFLoader at 0x1fff2305c50>,\n",
       " <langchain.document_loaders.pdf.UnstructuredPDFLoader at 0x1fff2306010>,\n",
       " <langchain.document_loaders.pdf.UnstructuredPDFLoader at 0x1fff2305a50>,\n",
       " <langchain.document_loaders.pdf.UnstructuredPDFLoader at 0x1fff2305d90>]"
      ]
     },
     "execution_count": 6,
     "metadata": {},
     "output_type": "execute_result"
    }
   ],
   "source": [
    "loaders "
   ]
  },
  {
   "cell_type": "code",
   "execution_count": 7,
   "metadata": {},
   "outputs": [
    {
     "data": {
      "text/plain": [
       "VectorStoreIndexWrapper(vectorstore=<langchain.vectorstores.chroma.Chroma object at 0x000001FFA1810A50>)"
      ]
     },
     "execution_count": 7,
     "metadata": {},
     "output_type": "execute_result"
    }
   ],
   "source": [
    "index = VectorstoreIndexCreator().from_loaders(loaders)   #create chuncks create embeddings for each document \n",
    "index"
   ]
  },
  {
   "cell_type": "code",
   "execution_count": 8,
   "metadata": {},
   "outputs": [
    {
     "data": {
      "text/plain": [
       "' Zara Fahar'"
      ]
     },
     "execution_count": 8,
     "metadata": {},
     "output_type": "execute_result"
    }
   ],
   "source": [
    "index.query(\"Which people should I hire as computer engineers ?\")"
   ]
  },
  {
   "cell_type": "code",
   "execution_count": 9,
   "metadata": {},
   "outputs": [
    {
     "data": {
      "text/plain": [
       "' Berçin Saba Güngör.'"
      ]
     },
     "execution_count": 9,
     "metadata": {},
     "output_type": "execute_result"
    }
   ],
   "source": [
    "index.query(\"Who will be graduating from SABANCI UNIVERSITY?\")"
   ]
  },
  {
   "cell_type": "code",
   "execution_count": 10,
   "metadata": {},
   "outputs": [
    {
     "data": {
      "text/plain": [
       "' John Purcell, who has a Udemy course on Java Swing (GUI) Programming: From Beginner to Expert.'"
      ]
     },
     "execution_count": 10,
     "metadata": {},
     "output_type": "execute_result"
    }
   ],
   "source": [
    "index.query(\"Who should I hire if i need someone who knows Java?\")  ##problematic "
   ]
  },
  {
   "cell_type": "code",
   "execution_count": 11,
   "metadata": {},
   "outputs": [
    {
     "data": {
      "text/plain": [
       "' Krishna Smith and Ellie Johnson are still students.'"
      ]
     },
     "execution_count": 11,
     "metadata": {},
     "output_type": "execute_result"
    }
   ],
   "source": [
    "index.query(\"Who is still a student?\")  ## Krishna Smith not student the other is "
   ]
  },
  {
   "cell_type": "code",
   "execution_count": 12,
   "metadata": {},
   "outputs": [
    {
     "data": {
      "text/plain": [
       "' John Smith would be a good candidate for a role that requires knowledge of law. He has experience in shadowing solicitors dealing with matters ranging from Right to Remain, Spousal Visa and Skilled Worker Visa applications, researching relevant statutes, legal articles, case law and case summaries, attending a court hearing of a summary judgement, and delivering presentations on legal topics. He also has a commendation from his LPC course, with electives in commercial, mergers and acquisitions, banking and finance.'"
      ]
     },
     "execution_count": 12,
     "metadata": {},
     "output_type": "execute_result"
    }
   ],
   "source": [
    "index.query(\"Who should I hire if i need a need someone who knows law?\") "
   ]
  },
  {
   "cell_type": "code",
   "execution_count": 13,
   "metadata": {},
   "outputs": [
    {
     "data": {
      "text/plain": [
       "' Gary White'"
      ]
     },
     "execution_count": 13,
     "metadata": {},
     "output_type": "execute_result"
    }
   ],
   "source": [
    "index.query(\"Who should I hire if i need a PROJECT MANAGER?\") "
   ]
  }
 ],
 "metadata": {
  "kernelspec": {
   "display_name": "Python 3",
   "language": "python",
   "name": "python3"
  },
  "language_info": {
   "codemirror_mode": {
    "name": "ipython",
    "version": 3
   },
   "file_extension": ".py",
   "mimetype": "text/x-python",
   "name": "python",
   "nbconvert_exporter": "python",
   "pygments_lexer": "ipython3",
   "version": "3.11.3"
  },
  "orig_nbformat": 4
 },
 "nbformat": 4,
 "nbformat_minor": 2
}
